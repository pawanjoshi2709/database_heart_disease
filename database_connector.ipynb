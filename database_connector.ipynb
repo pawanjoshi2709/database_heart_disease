{
 "cells": [
  {
   "cell_type": "code",
   "execution_count": 44,
   "id": "d80b12e7",
   "metadata": {},
   "outputs": [],
   "source": [
    "import gdown\n",
    "import os\n",
    "\n",
    "def download_from_gdrive(share_url: str) -> str:\n",
    "    file_id = share_url.split(\"/d/\")[1].split(\"/\")[0]\n",
    "    direct_url = f\"https://drive.google.com/uc?id={file_id}\"\n",
    "    os.makedirs(\"data_dumper\", exist_ok=True)\n",
    "    downloaded_path = gdown.download(url=direct_url, output=None, quiet=False)\n",
    "    if downloaded_path:\n",
    "        new_path = os.path.join(\"data_dumper\", os.path.basename(downloaded_path))\n",
    "        os.rename(downloaded_path, new_path)\n",
    "        return new_path\n",
    "    return \"\"\n"
   ]
  },
  {
   "cell_type": "code",
   "execution_count": 45,
   "id": "fffaf1ff",
   "metadata": {},
   "outputs": [],
   "source": [
    "import os\n",
    "import requests\n",
    "\n",
    "def download_from_url(url: str) -> str:\n",
    "    filename = url.split(\"/\")[-1]\n",
    "    save_path = os.path.join(\"data_dumper\", filename)\n",
    "    \n",
    "    response = requests.get(url)\n",
    "    with open(save_path, \"wb\") as f:\n",
    "        f.write(response.content)\n",
    "    \n",
    "    return save_path\n"
   ]
  },
  {
   "cell_type": "code",
   "execution_count": 68,
   "id": "227e63cd",
   "metadata": {},
   "outputs": [],
   "source": [
    "import pandas as pd\n",
    "import os\n",
    "\n",
    "def load_all_data_to_df(github_urls, gdrive_links,system_file):\n",
    "    os.makedirs(\"data_dumper\", exist_ok=True)\n",
    "\n",
    "    columns = ['age', 'sex', 'cp', 'trestbps', 'chol', 'fbs', \n",
    "               'restecg', 'thalach', 'exang', 'oldpeak', \n",
    "               'slope', 'ca', 'thal', 'target']\n",
    "    \n",
    "    all_dfs = []\n",
    "\n",
    "    # Process GitHub files\n",
    "    for url in github_urls:\n",
    "        file_path = download_from_url(url)  # assumes this function returns a local file path\n",
    "        df = pd.read_csv(file_path, sep=\",\", names=columns)\n",
    "        all_dfs.append(df)\n",
    "        os.remove(file_path)\n",
    "\n",
    "    # Process Google Drive files\n",
    "    for link in gdrive_links:\n",
    "        file_path = download_from_gdrive(link)  # assumes this function returns a local file path\n",
    "        df = pd.read_csv(file_path, sep=\",\", names=columns)\n",
    "        all_dfs.append(df)\n",
    "        os.remove(file_path)\n",
    "    for file in system_file:\n",
    "        df = pd.read_csv(file, sep=\",\", names=columns)\n",
    "        all_dfs.append(df)\n",
    "\n",
    "    # Combine all dataframes into one\n",
    "    df_all = pd.concat(all_dfs, ignore_index=True)\n",
    "    return df_all\n"
   ]
  },
  {
   "cell_type": "code",
   "execution_count": 73,
   "id": "95b1773b",
   "metadata": {},
   "outputs": [
    {
     "name": "stderr",
     "output_type": "stream",
     "text": [
      "Downloading...\n",
      "From: https://drive.google.com/uc?id=1IecRQAFiVpYaBtf4vptaPJGRR7QG_efL\n",
      "To: d:\\heart_disease\\processed.va.data\n",
      "100%|██████████| 6.94k/6.94k [00:00<00:00, 781kB/s]\n",
      "Downloading...\n",
      "From: https://drive.google.com/uc?id=1m0IYCxR0Cn4NeVmDJmbQKwkLn4k7uW1U\n",
      "To: d:\\heart_disease\\processed.switzerland.data\n",
      "100%|██████████| 4.23k/4.23k [00:00<00:00, 4.15MB/s]\n"
     ]
    }
   ],
   "source": [
    "github_urls = [\"https://github.com/anastasiatraverse/Heart-Disease-Prediction/raw/master/preprocessing%20UCI/processed.cleveland.data\"]\n",
    "gdrive_links = [\"https://drive.google.com/file/d/1IecRQAFiVpYaBtf4vptaPJGRR7QG_efL/view?usp=sharing\",\"https://drive.google.com/file/d/1m0IYCxR0Cn4NeVmDJmbQKwkLn4k7uW1U/view?usp=drive_link\"]\n",
    "system_file = [\"system_data\\processed.hungarian.data\"]\n",
    "df = load_all_data_to_df(github_urls,gdrive_links,system_file)\n"
   ]
  },
  {
   "cell_type": "code",
   "execution_count": 87,
   "id": "66510527",
   "metadata": {},
   "outputs": [
    {
     "name": "stdout",
     "output_type": "stream",
     "text": [
      "✅ Data inserted into test_data successfully!\n"
     ]
    }
   ],
   "source": [
    "import psycopg2\n",
    "\n",
    "conn = psycopg2.connect(\n",
    "    host=\"localhost\",\n",
    "    port=\"5432\",\n",
    "    database=\"heart_dwh\",\n",
    "    user=\"postgres\",\n",
    "    password=\"A1s2d3f4\"\n",
    ")\n",
    "cursor = conn.cursor()\n",
    "\n",
    "# Insert each row of df_all into test_data\n",
    "for _, row in df.iterrows():\n",
    "    cursor.execute(\"\"\"\n",
    "        INSERT INTO train_data (\n",
    "            age, sex, cp, trestbps, chol, fbs,\n",
    "            restecg, thalach, exang, oldpeak,\n",
    "            slope, ca, thal, target\n",
    "        ) VALUES (%s, %s, %s, %s, %s, %s, %s, %s, %s, %s, %s, %s, %s, %s)\n",
    "    \"\"\", tuple(row))\n",
    "\n",
    "# Commit the transaction\n",
    "conn.commit()\n",
    "\n",
    "# Close the connection\n",
    "cursor.close()\n",
    "conn.close()\n",
    "\n"
   ]
  }
 ],
 "metadata": {
  "kernelspec": {
   "display_name": "Python 3",
   "language": "python",
   "name": "python3"
  },
  "language_info": {
   "codemirror_mode": {
    "name": "ipython",
    "version": 3
   },
   "file_extension": ".py",
   "mimetype": "text/x-python",
   "name": "python",
   "nbconvert_exporter": "python",
   "pygments_lexer": "ipython3",
   "version": "3.10.18"
  }
 },
 "nbformat": 4,
 "nbformat_minor": 5
}
